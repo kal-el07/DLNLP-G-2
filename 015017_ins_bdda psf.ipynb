{
 "cells": [
  {
   "cell_type": "markdown",
   "metadata": {},
   "source": [
    "# BDDA PROJECT 1"
   ]
  },
  {
   "cell_type": "markdown",
   "metadata": {},
   "source": [
    "## PART (1) INTRODUCTION"
   ]
  },
  {
   "cell_type": "markdown",
   "metadata": {},
   "source": [
    "\n",
    "### UMANG DHAR DWIVEDI 015017\n",
    " IN THIS PYTHON FILE WE WILL TRY TO UNDERSTAND DATA AND PERFORM VARIOS ACTIONS UNDER CERTAIN PARTS \n",
    " THIS PROJECT CONTAINS CSV FILE NAMED INSURANCE.CSV WHICH FURTHER HAS COULMNS HEADS AS \n",
    " --AGE \n",
    " --SEX\n",
    " --BMI\n",
    " --CHILDREN\n",
    " --SMOKER\n",
    " --REGION\n",
    " --CHARGES\n",
    "\n"
   ]
  },
  {
   "cell_type": "markdown",
   "metadata": {},
   "source": [
    "1. START HADOOP USING allstart.sh\n",
    "2. START SPARK USING pysparknb\n",
    "3. Copy the data using hadoop fs -copyFromLocal filename"
   ]
  },
  {
   "cell_type": "code",
   "execution_count": 1,
   "metadata": {},
   "outputs": [],
   "source": [
    "from pyspark.sql import SparkSession"
   ]
  },
  {
   "cell_type": "code",
   "execution_count": 4,
   "metadata": {},
   "outputs": [],
   "source": [
    "spark=SparkSession.builder.appName('Basics').getOrCreate()"
   ]
  },
  {
   "cell_type": "code",
   "execution_count": 5,
   "metadata": {},
   "outputs": [],
   "source": [
    "df=spark.read.csv('insurance.csv',header=True,inferSchema=True) "
   ]
  },
  {
   "cell_type": "markdown",
   "metadata": {},
   "source": [
    "#### inferschema helps spark in understanding data as spark only reads data in form of string"
   ]
  },
  {
   "cell_type": "markdown",
   "metadata": {},
   "source": [
    "## PART 2 Data Understanding/Exploration"
   ]
  },
  {
   "cell_type": "code",
   "execution_count": 6,
   "metadata": {},
   "outputs": [
    {
     "name": "stdout",
     "output_type": "stream",
     "text": [
      "+---+------+------+--------+------+---------+-----------+\n",
      "|age|   sex|   bmi|children|smoker|   region|    charges|\n",
      "+---+------+------+--------+------+---------+-----------+\n",
      "| 19|female|  27.9|       0|   yes|southwest|  16884.924|\n",
      "| 18|  male| 33.77|       1|    no|southeast|  1725.5523|\n",
      "| 28|  male|  33.0|       3|    no|southeast|   4449.462|\n",
      "| 33|  male|22.705|       0|    no|northwest|21984.47061|\n",
      "| 32|  male| 28.88|       0|    no|northwest|  3866.8552|\n",
      "| 31|female| 25.74|       0|    no|southeast|  3756.6216|\n",
      "| 46|female| 33.44|       1|    no|southeast|  8240.5896|\n",
      "| 37|female| 27.74|       3|    no|northwest|  7281.5056|\n",
      "| 37|  male| 29.83|       2|    no|northeast|  6406.4107|\n",
      "| 60|female| 25.84|       0|    no|northwest|28923.13692|\n",
      "| 25|  male| 26.22|       0|    no|northeast|  2721.3208|\n",
      "| 62|female| 26.29|       0|   yes|southeast| 27808.7251|\n",
      "| 23|  male|  34.4|       0|    no|southwest|   1826.843|\n",
      "| 56|female| 39.82|       0|    no|southeast| 11090.7178|\n",
      "| 27|  male| 42.13|       0|   yes|southeast| 39611.7577|\n",
      "| 19|  male|  24.6|       1|    no|southwest|   1837.237|\n",
      "| 52|female| 30.78|       1|    no|northeast| 10797.3362|\n",
      "| 23|  male|23.845|       0|    no|northeast| 2395.17155|\n",
      "| 56|  male|  40.3|       0|    no|southwest|  10602.385|\n",
      "| 30|  male|  35.3|       0|   yes|southwest|  36837.467|\n",
      "+---+------+------+--------+------+---------+-----------+\n",
      "only showing top 20 rows\n",
      "\n"
     ]
    }
   ],
   "source": [
    "df.show()"
   ]
  },
  {
   "cell_type": "code",
   "execution_count": 7,
   "metadata": {},
   "outputs": [
    {
     "data": {
      "text/plain": [
       "1338"
      ]
     },
     "execution_count": 7,
     "metadata": {},
     "output_type": "execute_result"
    }
   ],
   "source": [
    "df.count()"
   ]
  },
  {
   "cell_type": "code",
   "execution_count": 8,
   "metadata": {},
   "outputs": [
    {
     "data": {
      "text/plain": [
       "['age', 'sex', 'bmi', 'children', 'smoker', 'region', 'charges']"
      ]
     },
     "execution_count": 8,
     "metadata": {},
     "output_type": "execute_result"
    }
   ],
   "source": [
    "df.columns #to get the header(title of the coulmns)"
   ]
  },
  {
   "cell_type": "code",
   "execution_count": 9,
   "metadata": {},
   "outputs": [
    {
     "name": "stdout",
     "output_type": "stream",
     "text": [
      "root\n",
      " |-- age: integer (nullable = true)\n",
      " |-- sex: string (nullable = true)\n",
      " |-- bmi: double (nullable = true)\n",
      " |-- children: integer (nullable = true)\n",
      " |-- smoker: string (nullable = true)\n",
      " |-- region: string (nullable = true)\n",
      " |-- charges: double (nullable = true)\n",
      "\n"
     ]
    }
   ],
   "source": [
    "df.printSchema() #to understand the coulmns attributes,their type if null values permited or not"
   ]
  },
  {
   "cell_type": "code",
   "execution_count": 10,
   "metadata": {},
   "outputs": [
    {
     "name": "stdout",
     "output_type": "stream",
     "text": [
      "+-------+------------------+------+------------------+-----------------+------+---------+------------------+\n",
      "|summary|               age|   sex|               bmi|         children|smoker|   region|           charges|\n",
      "+-------+------------------+------+------------------+-----------------+------+---------+------------------+\n",
      "|  count|              1338|  1338|              1338|             1338|  1338|     1338|              1338|\n",
      "|   mean| 39.20702541106129|  null|30.663396860986538|  1.0949177877429|  null|     null|13270.422265141257|\n",
      "| stddev|14.049960379216147|  null| 6.098186911679012|1.205492739781914|  null|     null|12110.011236693992|\n",
      "|    min|                18|female|             15.96|                0|    no|northeast|         1121.8739|\n",
      "|    max|                64|  male|             53.13|                5|   yes|southwest|       63770.42801|\n",
      "+-------+------------------+------+------------------+-----------------+------+---------+------------------+\n",
      "\n"
     ]
    }
   ],
   "source": [
    "df.describe().show() ## used to see the statistical values of the data"
   ]
  },
  {
   "cell_type": "markdown",
   "metadata": {},
   "source": [
    "## PART (3) Grabbing Data {reading only data part that we want} "
   ]
  },
  {
   "cell_type": "code",
   "execution_count": 11,
   "metadata": {},
   "outputs": [
    {
     "data": {
      "text/plain": [
       "Column<b'bmi'>"
      ]
     },
     "execution_count": 11,
     "metadata": {},
     "output_type": "execute_result"
    }
   ],
   "source": [
    "df['bmi'] ##lets understand bmi coulmn\n"
   ]
  },
  {
   "cell_type": "code",
   "execution_count": 12,
   "metadata": {},
   "outputs": [
    {
     "data": {
      "text/plain": [
       "pyspark.sql.column.Column"
      ]
     },
     "execution_count": 12,
     "metadata": {},
     "output_type": "execute_result"
    }
   ],
   "source": [
    "type(df['bmi']) ##rdd helps in converting data in form of rows and coulmns"
   ]
  },
  {
   "cell_type": "code",
   "execution_count": 13,
   "metadata": {},
   "outputs": [
    {
     "name": "stdout",
     "output_type": "stream",
     "text": [
      "+------+\n",
      "|   bmi|\n",
      "+------+\n",
      "|  27.9|\n",
      "| 33.77|\n",
      "|  33.0|\n",
      "|22.705|\n",
      "| 28.88|\n",
      "| 25.74|\n",
      "| 33.44|\n",
      "| 27.74|\n",
      "| 29.83|\n",
      "| 25.84|\n",
      "| 26.22|\n",
      "| 26.29|\n",
      "|  34.4|\n",
      "| 39.82|\n",
      "| 42.13|\n",
      "|  24.6|\n",
      "| 30.78|\n",
      "|23.845|\n",
      "|  40.3|\n",
      "|  35.3|\n",
      "+------+\n",
      "only showing top 20 rows\n",
      "\n"
     ]
    }
   ],
   "source": [
    "df.select('bmi').show()"
   ]
  },
  {
   "cell_type": "code",
   "execution_count": 14,
   "metadata": {},
   "outputs": [
    {
     "data": {
      "text/plain": [
       "pyspark.sql.dataframe.DataFrame"
      ]
     },
     "execution_count": 14,
     "metadata": {},
     "output_type": "execute_result"
    }
   ],
   "source": [
    "type(df.select('bmi')) "
   ]
  },
  {
   "cell_type": "code",
   "execution_count": 15,
   "metadata": {},
   "outputs": [
    {
     "data": {
      "text/plain": [
       "[Row(age=19, sex='female', bmi=27.9, children=0, smoker='yes', region='southwest', charges=16884.924),\n",
       " Row(age=18, sex='male', bmi=33.77, children=1, smoker='no', region='southeast', charges=1725.5523)]"
      ]
     },
     "execution_count": 15,
     "metadata": {},
     "output_type": "execute_result"
    }
   ],
   "source": [
    "df.head(2) ##spark stores data in form of rows and coulmns not in form of dataframe"
   ]
  },
  {
   "cell_type": "code",
   "execution_count": 16,
   "metadata": {},
   "outputs": [
    {
     "data": {
      "text/plain": [
       "Row(age=32, sex='male', bmi=28.88, children=0, smoker='no', region='northwest', charges=3866.8552)"
      ]
     },
     "execution_count": 16,
     "metadata": {},
     "output_type": "execute_result"
    }
   ],
   "source": [
    "df.head(30)[4] ## 30 used to take the number of rows and in that we want to view value of row that is numbered 4"
   ]
  },
  {
   "cell_type": "code",
   "execution_count": 15,
   "metadata": {},
   "outputs": [
    {
     "data": {
      "text/plain": [
       "DataFrame[sex: string, bmi: double, charges: double]"
      ]
     },
     "execution_count": 15,
     "metadata": {},
     "output_type": "execute_result"
    }
   ],
   "source": [
    "df.select(['sex','bmi','charges']) ##now lets see the values if we only need 3 coulmn"
   ]
  },
  {
   "cell_type": "code",
   "execution_count": 16,
   "metadata": {},
   "outputs": [
    {
     "name": "stdout",
     "output_type": "stream",
     "text": [
      "+------+------+-----------+\n",
      "|   sex|   bmi|    charges|\n",
      "+------+------+-----------+\n",
      "|female|  27.9|  16884.924|\n",
      "|  male| 33.77|  1725.5523|\n",
      "|  male|  33.0|   4449.462|\n",
      "|  male|22.705|21984.47061|\n",
      "|  male| 28.88|  3866.8552|\n",
      "|female| 25.74|  3756.6216|\n",
      "|female| 33.44|  8240.5896|\n",
      "|female| 27.74|  7281.5056|\n",
      "|  male| 29.83|  6406.4107|\n",
      "|female| 25.84|28923.13692|\n",
      "|  male| 26.22|  2721.3208|\n",
      "|female| 26.29| 27808.7251|\n",
      "|  male|  34.4|   1826.843|\n",
      "|female| 39.82| 11090.7178|\n",
      "|  male| 42.13| 39611.7577|\n",
      "|  male|  24.6|   1837.237|\n",
      "|female| 30.78| 10797.3362|\n",
      "|  male|23.845| 2395.17155|\n",
      "|  male|  40.3|  10602.385|\n",
      "|  male|  35.3|  36837.467|\n",
      "+------+------+-----------+\n",
      "only showing top 20 rows\n",
      "\n"
     ]
    }
   ],
   "source": [
    "df.select(['sex','bmi','charges']).show()"
   ]
  },
  {
   "cell_type": "code",
   "execution_count": 17,
   "metadata": {},
   "outputs": [
    {
     "name": "stdout",
     "output_type": "stream",
     "text": [
      "+---+------+------+--------+------+---------+-----------+\n",
      "|age|   sex|   bmi|children|smoker|   region|    charges|\n",
      "+---+------+------+--------+------+---------+-----------+\n",
      "| 23|  male|17.385|       1|    no|northwest| 2775.19215|\n",
      "| 32|female|17.765|       2|   yes|northwest| 32734.1863|\n",
      "| 18|  male| 15.96|       0|    no|northeast|  1694.7964|\n",
      "| 51|female| 18.05|       0|    no|northwest|  9644.2525|\n",
      "| 19|female|  17.8|       0|    no|southwest|   1727.785|\n",
      "| 18|  male| 17.29|       2|   yes|northeast| 12829.4551|\n",
      "| 27|female|17.955|       2|   yes|northeast|15006.57945|\n",
      "| 19|  male| 17.48|       0|    no|northwest|  1621.3402|\n",
      "| 26|female|17.195|       2|   yes|northeast|14455.64405|\n",
      "| 21|female|16.815|       1|    no|northeast| 3167.45585|\n",
      "| 21|female|  17.4|       1|    no|southwest|   2585.269|\n",
      "| 26|  male| 17.67|       0|    no|northwest|  2680.9493|\n",
      "| 57|  male|18.335|       0|    no|northeast|11534.87265|\n",
      "| 37|female| 17.29|       2|    no|northeast|  6877.9801|\n",
      "| 60|female|18.335|       0|    no|northeast|13204.28565|\n",
      "| 39|female|  18.3|       5|   yes|southwest|   19023.26|\n",
      "| 52|female|18.335|       0|    no|northwest| 9991.03765|\n",
      "| 35|  male| 17.86|       1|    no|northwest|  5116.5004|\n",
      "| 38|  male|16.815|       2|    no|northeast| 6640.54485|\n",
      "| 28|female| 17.29|       0|    no|northeast|  3732.6251|\n",
      "+---+------+------+--------+------+---------+-----------+\n",
      "\n"
     ]
    }
   ],
   "source": [
    " os =df.filter(\"bmi<18.5\").show(30) ##lets see if someone has bmi index less than 18.5 which is considered underweight "
   ]
  },
  {
   "cell_type": "markdown",
   "metadata": {},
   "source": [
    "We find that 20 people are overweight"
   ]
  },
  {
   "cell_type": "code",
   "execution_count": 18,
   "metadata": {},
   "outputs": [
    {
     "name": "stdout",
     "output_type": "stream",
     "text": [
      "+---+----+------+--------+------+---------+-----------+\n",
      "|age| sex|   bmi|children|smoker|   region|    charges|\n",
      "+---+----+------+--------+------+---------+-----------+\n",
      "| 23|male|17.385|       1|    no|northwest| 2775.19215|\n",
      "| 18|male| 15.96|       0|    no|northeast|  1694.7964|\n",
      "| 18|male| 17.29|       2|   yes|northeast| 12829.4551|\n",
      "| 19|male| 17.48|       0|    no|northwest|  1621.3402|\n",
      "| 26|male| 17.67|       0|    no|northwest|  2680.9493|\n",
      "| 57|male|18.335|       0|    no|northeast|11534.87265|\n",
      "| 35|male| 17.86|       1|    no|northwest|  5116.5004|\n",
      "| 38|male|16.815|       2|    no|northeast| 6640.54485|\n",
      "+---+----+------+--------+------+---------+-----------+\n",
      "\n"
     ]
    }
   ],
   "source": [
    "df.filter((df['bmi']<18.5)&(df['sex']>'female')).show() "
   ]
  },
  {
   "cell_type": "markdown",
   "metadata": {},
   "source": [
    "Interesting point  that  males who are underweight are from  north region"
   ]
  },
  {
   "cell_type": "code",
   "execution_count": 19,
   "metadata": {},
   "outputs": [
    {
     "name": "stdout",
     "output_type": "stream",
     "text": [
      "+---+------+------+--------+------+---------+-----------+\n",
      "|age|   sex|   bmi|children|smoker|   region|    charges|\n",
      "+---+------+------+--------+------+---------+-----------+\n",
      "| 32|female|17.765|       2|   yes|northwest| 32734.1863|\n",
      "| 51|female| 18.05|       0|    no|northwest|  9644.2525|\n",
      "| 27|female|17.955|       2|   yes|northeast|15006.57945|\n",
      "| 26|female|17.195|       2|   yes|northeast|14455.64405|\n",
      "| 26|  male| 17.67|       0|    no|northwest|  2680.9493|\n",
      "| 57|  male|18.335|       0|    no|northeast|11534.87265|\n",
      "| 37|female| 17.29|       2|    no|northeast|  6877.9801|\n",
      "| 60|female|18.335|       0|    no|northeast|13204.28565|\n",
      "| 39|female|  18.3|       5|   yes|southwest|   19023.26|\n",
      "| 52|female|18.335|       0|    no|northwest| 9991.03765|\n",
      "| 35|  male| 17.86|       1|    no|northwest|  5116.5004|\n",
      "| 38|  male|16.815|       2|    no|northeast| 6640.54485|\n",
      "| 28|female| 17.29|       0|    no|northeast|  3732.6251|\n",
      "+---+------+------+--------+------+---------+-----------+\n",
      "\n"
     ]
    }
   ],
   "source": [
    "df.filter((df['bmi']<18.5)&(df['age']>25)).show() "
   ]
  },
  {
   "cell_type": "markdown",
   "metadata": {},
   "source": [
    "#### here we check the number of people who are under weight and below 25 years of age"
   ]
  },
  {
   "cell_type": "code",
   "execution_count": 20,
   "metadata": {},
   "outputs": [
    {
     "name": "stdout",
     "output_type": "stream",
     "text": [
      "+------+\n",
      "|smoker|\n",
      "+------+\n",
      "|    no|\n",
      "|   yes|\n",
      "|    no|\n",
      "|    no|\n",
      "|    no|\n",
      "|   yes|\n",
      "|   yes|\n",
      "|    no|\n",
      "|   yes|\n",
      "|    no|\n",
      "|    no|\n",
      "|    no|\n",
      "|    no|\n",
      "|    no|\n",
      "|    no|\n",
      "|   yes|\n",
      "|    no|\n",
      "|    no|\n",
      "|    no|\n",
      "|    no|\n",
      "+------+\n",
      "\n"
     ]
    }
   ],
   "source": [
    "df.filter(\"bmi<18.5\").select(['smoker']).show() ##if we only want to see how many people who are underweight are smokers"
   ]
  },
  {
   "cell_type": "code",
   "execution_count": 21,
   "metadata": {},
   "outputs": [
    {
     "name": "stdout",
     "output_type": "stream",
     "text": [
      "+---+------+------+--------+------+---------+-----------+\n",
      "|age|   sex|   bmi|children|smoker|   region|    charges|\n",
      "+---+------+------+--------+------+---------+-----------+\n",
      "| 18|  male| 33.77|       1|    no|southeast|  1725.5523|\n",
      "| 28|  male|  33.0|       3|    no|southeast|   4449.462|\n",
      "| 46|female| 33.44|       1|    no|southeast|  8240.5896|\n",
      "| 37|  male| 29.83|       2|    no|northeast|  6406.4107|\n",
      "| 23|  male|  34.4|       0|    no|southwest|   1826.843|\n",
      "| 56|female| 39.82|       0|    no|southeast| 11090.7178|\n",
      "| 27|  male| 42.13|       0|   yes|southeast| 39611.7577|\n",
      "| 52|female| 30.78|       1|    no|northeast| 10797.3362|\n",
      "| 56|  male|  40.3|       0|    no|southwest|  10602.385|\n",
      "| 30|  male|  35.3|       0|   yes|southwest|  36837.467|\n",
      "| 60|female|36.005|       0|    no|northeast|13228.84695|\n",
      "| 30|female|  32.4|       1|    no|southwest|   4149.736|\n",
      "| 18|  male|  34.1|       0|    no|southeast|   1137.011|\n",
      "| 34|female| 31.92|       1|   yes|northeast| 37701.8768|\n",
      "| 55|female|32.775|       2|    no|northwest|12268.63225|\n",
      "| 31|  male|  36.3|       2|   yes|southwest|    38711.0|\n",
      "| 22|  male|  35.6|       0|   yes|southwest|  35585.576|\n",
      "| 28|  male|  36.4|       1|   yes|southwest|51194.55914|\n",
      "| 62|female|32.965|       3|    no|northwest|15612.19335|\n",
      "| 35|  male| 36.67|       1|   yes|northeast| 39774.2763|\n",
      "| 60|  male|  39.9|       0|   yes|southwest|  48173.361|\n",
      "| 31|female| 36.63|       2|    no|southeast|  4949.7587|\n",
      "| 37|female|  30.8|       2|    no|southeast|   6313.759|\n",
      "| 38|  male| 37.05|       1|    no|northeast|  6079.6715|\n",
      "| 55|  male|  37.3|       0|    no|southwest|20630.28351|\n",
      "| 18|female|38.665|       2|    no|northeast| 3393.35635|\n",
      "| 28|female| 34.77|       0|    no|northwest|  3556.9223|\n",
      "| 36|  male|  35.2|       1|   yes|southeast|  38709.176|\n",
      "| 18|female|35.625|       0|    no|northeast| 2211.13075|\n",
      "| 21|female| 33.63|       2|    no|northwest|  3579.8287|\n",
      "+---+------+------+--------+------+---------+-----------+\n",
      "only showing top 30 rows\n",
      "\n"
     ]
    }
   ],
   "source": [
    "df.filter(\"bmi>29\").show(30)   ##lets see how many are overweight"
   ]
  },
  {
   "cell_type": "code",
   "execution_count": 22,
   "metadata": {},
   "outputs": [],
   "source": [
    "ow=df.filter(df['bmi']>29).collect()"
   ]
  },
  {
   "cell_type": "code",
   "execution_count": 23,
   "metadata": {},
   "outputs": [
    {
     "data": {
      "text/plain": [
       "778"
      ]
     },
     "execution_count": 23,
     "metadata": {},
     "output_type": "execute_result"
    }
   ],
   "source": [
    "len(ow)"
   ]
  },
  {
   "cell_type": "markdown",
   "metadata": {},
   "source": [
    "#### 778 people are overweight"
   ]
  },
  {
   "cell_type": "code",
   "execution_count": 24,
   "metadata": {},
   "outputs": [],
   "source": [
    "ow2 =df.filter((df['bmi']>29)&(df['age']<25)).collect()"
   ]
  },
  {
   "cell_type": "code",
   "execution_count": 25,
   "metadata": {},
   "outputs": [
    {
     "data": {
      "text/plain": [
       "151"
      ]
     },
     "execution_count": 25,
     "metadata": {},
     "output_type": "execute_result"
    }
   ],
   "source": [
    "len(ow2)"
   ]
  },
  {
   "cell_type": "markdown",
   "metadata": {},
   "source": [
    "#### 151 people who are overweight are less than 25 "
   ]
  },
  {
   "cell_type": "code",
   "execution_count": 26,
   "metadata": {},
   "outputs": [],
   "source": [
    "chi=df.filter((df['children']==0)).collect()"
   ]
  },
  {
   "cell_type": "code",
   "execution_count": 27,
   "metadata": {},
   "outputs": [
    {
     "data": {
      "text/plain": [
       "574"
      ]
     },
     "execution_count": 27,
     "metadata": {},
     "output_type": "execute_result"
    }
   ],
   "source": [
    "len(chi)"
   ]
  },
  {
   "cell_type": "markdown",
   "metadata": {},
   "source": [
    "#### 574  people have no children"
   ]
  },
  {
   "cell_type": "code",
   "execution_count": 28,
   "metadata": {},
   "outputs": [],
   "source": [
    "chi1 =df.filter((df['children']==1)).collect()"
   ]
  },
  {
   "cell_type": "code",
   "execution_count": 29,
   "metadata": {},
   "outputs": [
    {
     "data": {
      "text/plain": [
       "324"
      ]
     },
     "execution_count": 29,
     "metadata": {},
     "output_type": "execute_result"
    }
   ],
   "source": [
    "len(chi1)"
   ]
  },
  {
   "cell_type": "markdown",
   "metadata": {},
   "source": [
    "#### 324 people have 1 child"
   ]
  },
  {
   "cell_type": "code",
   "execution_count": 30,
   "metadata": {},
   "outputs": [],
   "source": [
    "chiov =df.filter((df['bmi']>29)& ~(df['children']==0)).collect()"
   ]
  },
  {
   "cell_type": "code",
   "execution_count": 31,
   "metadata": {},
   "outputs": [
    {
     "data": {
      "text/plain": [
       "449"
      ]
     },
     "execution_count": 31,
     "metadata": {},
     "output_type": "execute_result"
    }
   ],
   "source": [
    "len(chiov)"
   ]
  },
  {
   "cell_type": "markdown",
   "metadata": {},
   "source": [
    "#### 449 people who are overweight have no child"
   ]
  },
  {
   "cell_type": "markdown",
   "metadata": {},
   "source": [
    "##   PART (4) Group by Aggrigation"
   ]
  },
  {
   "cell_type": "code",
   "execution_count": 32,
   "metadata": {},
   "outputs": [
    {
     "name": "stdout",
     "output_type": "stream",
     "text": [
      "+---+------+------+--------+------+---------+-----------+\n",
      "|age|   sex|   bmi|children|smoker|   region|    charges|\n",
      "+---+------+------+--------+------+---------+-----------+\n",
      "| 19|female|  27.9|       0|   yes|southwest|  16884.924|\n",
      "| 18|  male| 33.77|       1|    no|southeast|  1725.5523|\n",
      "| 28|  male|  33.0|       3|    no|southeast|   4449.462|\n",
      "| 33|  male|22.705|       0|    no|northwest|21984.47061|\n",
      "| 32|  male| 28.88|       0|    no|northwest|  3866.8552|\n",
      "| 31|female| 25.74|       0|    no|southeast|  3756.6216|\n",
      "| 46|female| 33.44|       1|    no|southeast|  8240.5896|\n",
      "| 37|female| 27.74|       3|    no|northwest|  7281.5056|\n",
      "| 37|  male| 29.83|       2|    no|northeast|  6406.4107|\n",
      "| 60|female| 25.84|       0|    no|northwest|28923.13692|\n",
      "| 25|  male| 26.22|       0|    no|northeast|  2721.3208|\n",
      "| 62|female| 26.29|       0|   yes|southeast| 27808.7251|\n",
      "| 23|  male|  34.4|       0|    no|southwest|   1826.843|\n",
      "| 56|female| 39.82|       0|    no|southeast| 11090.7178|\n",
      "| 27|  male| 42.13|       0|   yes|southeast| 39611.7577|\n",
      "| 19|  male|  24.6|       1|    no|southwest|   1837.237|\n",
      "| 52|female| 30.78|       1|    no|northeast| 10797.3362|\n",
      "| 23|  male|23.845|       0|    no|northeast| 2395.17155|\n",
      "| 56|  male|  40.3|       0|    no|southwest|  10602.385|\n",
      "| 30|  male|  35.3|       0|   yes|southwest|  36837.467|\n",
      "+---+------+------+--------+------+---------+-----------+\n",
      "only showing top 20 rows\n",
      "\n"
     ]
    }
   ],
   "source": [
    "df.show()"
   ]
  },
  {
   "cell_type": "code",
   "execution_count": 33,
   "metadata": {},
   "outputs": [
    {
     "data": {
      "text/plain": [
       "<pyspark.sql.group.GroupedData at 0x7f6bc4e0b518>"
      ]
     },
     "execution_count": 33,
     "metadata": {},
     "output_type": "execute_result"
    }
   ],
   "source": [
    "df.groupBy(\"region\")"
   ]
  },
  {
   "cell_type": "code",
   "execution_count": 34,
   "metadata": {},
   "outputs": [
    {
     "name": "stdout",
     "output_type": "stream",
     "text": [
      "+---------+-----+\n",
      "|   region|count|\n",
      "+---------+-----+\n",
      "|northwest|  325|\n",
      "|southeast|  364|\n",
      "|northeast|  324|\n",
      "|southwest|  325|\n",
      "+---------+-----+\n",
      "\n"
     ]
    }
   ],
   "source": [
    "df.groupBy(\"region\").count().show() ## to see how population is distributed in various regions"
   ]
  },
  {
   "cell_type": "markdown",
   "metadata": {},
   "source": [
    "### Now let's see the average/max/min of (age,bmi,children,charges) distributed in regions"
   ]
  },
  {
   "cell_type": "code",
   "execution_count": 35,
   "metadata": {},
   "outputs": [
    {
     "name": "stdout",
     "output_type": "stream",
     "text": [
      "+---------+-----------------+------------------+------------------+------------------+\n",
      "|   region|         avg(age)|          avg(bmi)|     avg(children)|      avg(charges)|\n",
      "+---------+-----------------+------------------+------------------+------------------+\n",
      "|northwest|39.19692307692308|29.199784615384626|1.1476923076923078|12417.575373969228|\n",
      "|southeast|38.93956043956044| 33.35598901098903|1.0494505494505495|14735.411437609895|\n",
      "|northeast|39.26851851851852| 29.17350308641976|1.0462962962962963|  13406.3845163858|\n",
      "|southwest|39.45538461538462| 30.59661538461538|1.1415384615384616| 12346.93737729231|\n",
      "+---------+-----------------+------------------+------------------+------------------+\n",
      "\n",
      "+---------+--------+--------+-------------+------------+\n",
      "|   region|max(age)|max(bmi)|max(children)|max(charges)|\n",
      "+---------+--------+--------+-------------+------------+\n",
      "|northwest|      64|   42.94|            5| 60021.39897|\n",
      "|southeast|      64|   53.13|            5| 63770.42801|\n",
      "|northeast|      64|   48.07|            5| 58571.07448|\n",
      "|southwest|      64|    47.6|            5| 52590.82939|\n",
      "+---------+--------+--------+-------------+------------+\n",
      "\n",
      "+---------+--------+--------+-------------+------------+\n",
      "|   region|min(age)|min(bmi)|min(children)|min(charges)|\n",
      "+---------+--------+--------+-------------+------------+\n",
      "|northwest|      19|  17.385|            0|   1621.3402|\n",
      "|southeast|      18|    19.8|            0|   1121.8739|\n",
      "|northeast|      18|   15.96|            0|   1694.7964|\n",
      "|southwest|      19|    17.4|            0|    1241.565|\n",
      "+---------+--------+--------+-------------+------------+\n",
      "\n"
     ]
    }
   ],
   "source": [
    "df.groupBy(\"region\").mean().show()\n",
    "df.groupBy(\"region\").max().show()\n",
    "df.groupBy(\"region\").min().show()\n",
    " "
   ]
  },
  {
   "cell_type": "code",
   "execution_count": 36,
   "metadata": {},
   "outputs": [
    {
     "name": "stdout",
     "output_type": "stream",
     "text": [
      "+--------+\n",
      "|max(bmi)|\n",
      "+--------+\n",
      "|   53.13|\n",
      "+--------+\n",
      "\n"
     ]
    }
   ],
   "source": [
    "df.agg({\"bmi\":\"max\"}).show()"
   ]
  },
  {
   "cell_type": "code",
   "execution_count": 37,
   "metadata": {},
   "outputs": [
    {
     "name": "stdout",
     "output_type": "stream",
     "text": [
      "+---+----+-----+--------+------+---------+---------+\n",
      "|age| sex|  bmi|children|smoker|   region|  charges|\n",
      "+---+----+-----+--------+------+---------+---------+\n",
      "| 18|male|53.13|       0|    no|southeast|1163.4627|\n",
      "+---+----+-----+--------+------+---------+---------+\n",
      "\n"
     ]
    }
   ],
   "source": [
    "df.filter(\"bmi==53.13\").show(30)   ##lets see who is this person"
   ]
  },
  {
   "cell_type": "code",
   "execution_count": 38,
   "metadata": {},
   "outputs": [
    {
     "name": "stdout",
     "output_type": "stream",
     "text": [
      "+--------+\n",
      "|min(bmi)|\n",
      "+--------+\n",
      "|   15.96|\n",
      "+--------+\n",
      "\n"
     ]
    }
   ],
   "source": [
    "df.agg({\"bmi\":\"min\"}).show()"
   ]
  },
  {
   "cell_type": "code",
   "execution_count": 39,
   "metadata": {},
   "outputs": [
    {
     "name": "stdout",
     "output_type": "stream",
     "text": [
      "+---+----+-----+--------+------+---------+---------+\n",
      "|age| sex|  bmi|children|smoker|   region|  charges|\n",
      "+---+----+-----+--------+------+---------+---------+\n",
      "| 18|male|15.96|       0|    no|northeast|1694.7964|\n",
      "+---+----+-----+--------+------+---------+---------+\n",
      "\n"
     ]
    }
   ],
   "source": [
    "df.filter(\"bmi==15.96\").show(30)   ##lets see who is this person"
   ]
  },
  {
   "cell_type": "code",
   "execution_count": 40,
   "metadata": {},
   "outputs": [
    {
     "name": "stdout",
     "output_type": "stream",
     "text": [
      "+------------+\n",
      "|min(charges)|\n",
      "+------------+\n",
      "|   1121.8739|\n",
      "+------------+\n",
      "\n"
     ]
    }
   ],
   "source": [
    "df.agg({\"charges\":\"min\"}).show()"
   ]
  },
  {
   "cell_type": "code",
   "execution_count": 43,
   "metadata": {},
   "outputs": [
    {
     "name": "stdout",
     "output_type": "stream",
     "text": [
      "+------------+\n",
      "|max(charges)|\n",
      "+------------+\n",
      "| 63770.42801|\n",
      "+------------+\n",
      "\n"
     ]
    }
   ],
   "source": [
    "df.agg({\"charges\":\"max\"}).show()"
   ]
  },
  {
   "cell_type": "code",
   "execution_count": 44,
   "metadata": {},
   "outputs": [
    {
     "name": "stdout",
     "output_type": "stream",
     "text": [
      "+---+------+-----+--------+------+---------+-----------+\n",
      "|age|   sex|  bmi|children|smoker|   region|    charges|\n",
      "+---+------+-----+--------+------+---------+-----------+\n",
      "| 54|female|47.41|       0|   yes|southeast|63770.42801|\n",
      "+---+------+-----+--------+------+---------+-----------+\n",
      "\n"
     ]
    }
   ],
   "source": [
    "df.filter(\"charges==63770.42801\").show(30)   ##lets see who is this person"
   ]
  },
  {
   "cell_type": "markdown",
   "metadata": {},
   "source": [
    "## PART (5) FUNCTIONS"
   ]
  },
  {
   "cell_type": "code",
   "execution_count": 66,
   "metadata": {},
   "outputs": [],
   "source": [
    "from pyspark.sql.functions import countDistinct, avg, stddev,max,min\n",
    "from pyspark.sql.functions import format_number"
   ]
  },
  {
   "cell_type": "code",
   "execution_count": 62,
   "metadata": {},
   "outputs": [
    {
     "name": "stdout",
     "output_type": "stream",
     "text": [
      "+------------------+\n",
      "|          avg(bmi)|\n",
      "+------------------+\n",
      "|30.663396860986538|\n",
      "+------------------+\n",
      "\n"
     ]
    }
   ],
   "source": [
    "df.select(avg(\"bmi\")).show()"
   ]
  },
  {
   "cell_type": "code",
   "execution_count": 64,
   "metadata": {},
   "outputs": [
    {
     "name": "stdout",
     "output_type": "stream",
     "text": [
      "+-----------------+\n",
      "|         avg(age)|\n",
      "+-----------------+\n",
      "|39.20702541106129|\n",
      "+-----------------+\n",
      "\n",
      "+------------------+\n",
      "|  stddev_samp(age)|\n",
      "+------------------+\n",
      "|14.049960379216147|\n",
      "+------------------+\n",
      "\n",
      "+--------+\n",
      "|max(age)|\n",
      "+--------+\n",
      "|      64|\n",
      "+--------+\n",
      "\n",
      "+--------+\n",
      "|min(age)|\n",
      "+--------+\n",
      "|      18|\n",
      "+--------+\n",
      "\n"
     ]
    }
   ],
   "source": [
    "df.select(avg(\"age\")).show()\n",
    "df.select(stddev(\"age\")).show()\n",
    "df.select(max(\"age\")).show()\n",
    "df.select(min(\"age\")).show()"
   ]
  },
  {
   "cell_type": "code",
   "execution_count": 67,
   "metadata": {},
   "outputs": [
    {
     "name": "stdout",
     "output_type": "stream",
     "text": [
      "+------------------+\n",
      "|  stddev_samp(age)|\n",
      "+------------------+\n",
      "|14.049960379216147|\n",
      "+------------------+\n",
      "\n"
     ]
    }
   ],
   "source": [
    "sd=df.select(stddev(\"age\")).show()"
   ]
  },
  {
   "cell_type": "code",
   "execution_count": 77,
   "metadata": {},
   "outputs": [
    {
     "name": "stdout",
     "output_type": "stream",
     "text": [
      "+------------------+\n",
      "|               std|\n",
      "+------------------+\n",
      "|14.049960379216147|\n",
      "+------------------+\n",
      "\n"
     ]
    }
   ],
   "source": [
    "from pyspark.sql.functions import format_number ## lets truncate the value to 2 digits\n",
    "\n",
    "asd=df.select(stddev(\"age\").alias('std'))\n",
    "asd.show()"
   ]
  },
  {
   "cell_type": "code",
   "execution_count": 78,
   "metadata": {},
   "outputs": [
    {
     "name": "stdout",
     "output_type": "stream",
     "text": [
      "+---------------------+\n",
      "|format_number(std, 2)|\n",
      "+---------------------+\n",
      "|                14.05|\n",
      "+---------------------+\n",
      "\n"
     ]
    }
   ],
   "source": [
    "asd.select(format_number('std',2)).show()"
   ]
  },
  {
   "cell_type": "code",
   "execution_count": 79,
   "metadata": {},
   "outputs": [
    {
     "name": "stdout",
     "output_type": "stream",
     "text": [
      "+-----------------+\n",
      "|              std|\n",
      "+-----------------+\n",
      "|39.20702541106129|\n",
      "+-----------------+\n",
      "\n"
     ]
    }
   ],
   "source": [
    "asd1=df.select(avg(\"age\").alias('std'))\n",
    "asd1.show()"
   ]
  },
  {
   "cell_type": "code",
   "execution_count": 80,
   "metadata": {},
   "outputs": [
    {
     "name": "stdout",
     "output_type": "stream",
     "text": [
      "+---------------------+\n",
      "|format_number(std, 0)|\n",
      "+---------------------+\n",
      "|                   39|\n",
      "+---------------------+\n",
      "\n"
     ]
    }
   ],
   "source": [
    "asd1.select(format_number('std',0)).show()"
   ]
  },
  {
   "cell_type": "code",
   "execution_count": 81,
   "metadata": {},
   "outputs": [
    {
     "name": "stdout",
     "output_type": "stream",
     "text": [
      "+---+----+-----+--------+------+---------+---------+\n",
      "|age| sex|  bmi|children|smoker|   region|  charges|\n",
      "+---+----+-----+--------+------+---------+---------+\n",
      "| 18|male|23.21|       0|    no|southeast|1121.8739|\n",
      "| 18|male|30.14|       0|    no|southeast|1131.5066|\n",
      "| 18|male|33.33|       0|    no|southeast|1135.9407|\n",
      "| 18|male|33.66|       0|    no|southeast|1136.3994|\n",
      "| 18|male| 34.1|       0|    no|southeast| 1137.011|\n",
      "| 18|male|34.43|       0|    no|southeast|1137.4697|\n",
      "| 18|male|37.29|       0|    no|southeast|1141.4451|\n",
      "| 18|male|41.14|       0|    no|southeast|1146.7966|\n",
      "| 18|male|43.01|       0|    no|southeast|1149.3959|\n",
      "| 18|male|53.13|       0|    no|southeast|1163.4627|\n",
      "| 19|male| 19.8|       0|    no|southwest| 1241.565|\n",
      "| 19|male| 20.3|       0|    no|southwest|  1242.26|\n",
      "| 19|male| 20.7|       0|    no|southwest| 1242.816|\n",
      "| 19|male| 27.6|       0|    no|southwest| 1252.407|\n",
      "| 19|male| 28.7|       0|    no|southwest| 1253.936|\n",
      "| 19|male| 30.4|       0|    no|southwest| 1256.299|\n",
      "| 19|male| 34.1|       0|    no|southwest| 1261.442|\n",
      "| 19|male| 34.4|       0|    no|southwest| 1261.859|\n",
      "| 19|male| 35.4|       0|    no|southwest| 1263.249|\n",
      "| 20|male|33.33|       0|    no|southeast|1391.5287|\n",
      "+---+----+-----+--------+------+---------+---------+\n",
      "only showing top 20 rows\n",
      "\n"
     ]
    }
   ],
   "source": [
    "df.orderBy(\"charges\").show()"
   ]
  },
  {
   "cell_type": "code",
   "execution_count": 89,
   "metadata": {},
   "outputs": [
    {
     "name": "stdout",
     "output_type": "stream",
     "text": [
      "+---+------+------+--------+------+---------+-----------+\n",
      "|age|   sex|   bmi|children|smoker|   region|    charges|\n",
      "+---+------+------+--------+------+---------+-----------+\n",
      "| 54|female| 47.41|       0|   yes|southeast|63770.42801|\n",
      "| 45|  male| 30.36|       0|   yes|southeast|62592.87309|\n",
      "| 52|  male|34.485|       3|   yes|northwest|60021.39897|\n",
      "| 31|female|38.095|       1|   yes|northeast|58571.07448|\n",
      "| 33|female| 35.53|       0|   yes|northwest|55135.40209|\n",
      "| 60|  male|  32.8|       0|   yes|southwest|52590.82939|\n",
      "| 28|  male|  36.4|       1|   yes|southwest|51194.55914|\n",
      "| 64|  male| 36.96|       2|   yes|southeast| 49577.6624|\n",
      "| 59|  male| 41.14|       1|   yes|southeast| 48970.2476|\n",
      "| 44|female| 38.06|       0|   yes|southeast|48885.13561|\n",
      "| 63|female|  37.7|       0|   yes|southwest|   48824.45|\n",
      "| 57|  male| 42.13|       1|   yes|southeast| 48675.5177|\n",
      "| 60|  male| 40.92|       0|   yes|southeast| 48673.5588|\n",
      "| 54|  male|40.565|       3|   yes|northeast|48549.17835|\n",
      "| 61|female|36.385|       1|   yes|northeast|48517.56315|\n",
      "| 60|  male|  39.9|       0|   yes|southwest|  48173.361|\n",
      "| 64|female|  33.8|       1|   yes|southwest|   47928.03|\n",
      "| 59|female|36.765|       1|   yes|northeast|47896.79135|\n",
      "| 58|  male|36.955|       2|   yes|northwest|47496.49445|\n",
      "| 51|  male|  42.9|       2|   yes|southeast|  47462.894|\n",
      "| 61|  male|  36.3|       1|   yes|southwest|   47403.88|\n",
      "| 63|female|  32.2|       2|   yes|southwest|  47305.305|\n",
      "| 64|female|  31.3|       2|   yes|southwest|  47291.055|\n",
      "| 52|  male|  41.8|       2|   yes|southeast|  47269.854|\n",
      "| 63|  male| 35.09|       0|   yes|southeast| 47055.5321|\n",
      "| 64|  male| 33.88|       0|   yes|southeast| 46889.2612|\n",
      "| 62|  male|30.875|       3|   yes|northwest|46718.16325|\n",
      "| 53|female| 36.86|       3|   yes|northwest| 46661.4424|\n",
      "| 61|  male| 35.86|       0|   yes|southeast| 46599.1084|\n",
      "| 51|female| 37.05|       3|   yes|northeast| 46255.1125|\n",
      "+---+------+------+--------+------+---------+-----------+\n",
      "only showing top 30 rows\n",
      "\n"
     ]
    }
   ],
   "source": [
    "df.orderBy(df[\"charges\"].desc()).show(30)"
   ]
  },
  {
   "cell_type": "code",
   "execution_count": 93,
   "metadata": {},
   "outputs": [
    {
     "name": "stdout",
     "output_type": "stream",
     "text": [
      "+---+------+------+--------+------+---------+-----------+\n",
      "|age|   sex|   bmi|children|smoker|   region|    charges|\n",
      "+---+------+------+--------+------+---------+-----------+\n",
      "| 31|  male|  28.5|       5|    no|northeast|   6799.458|\n",
      "| 49|female|  31.9|       5|    no|southwest|  11552.904|\n",
      "| 43|  male| 25.52|       5|    no|southeast|14478.33015|\n",
      "| 19|female|  28.6|       5|    no|southwest|   4687.797|\n",
      "| 20|female|  37.0|       5|    no|southwest|    4830.63|\n",
      "| 41|  male| 29.64|       5|    no|northeast|  9222.4026|\n",
      "| 39|female| 23.87|       5|    no|southeast|  8582.3023|\n",
      "| 28|  male|  24.3|       5|    no|southwest|   5615.369|\n",
      "| 33|  male|  42.4|       5|    no|southwest|   6666.243|\n",
      "| 33|  male| 33.44|       5|    no|southeast|  6653.7886|\n",
      "| 25|  male|  23.9|       5|    no|southwest|   5080.096|\n",
      "| 46|  male|  25.8|       5|    no|southwest|   10096.97|\n",
      "| 39|female|24.225|       5|    no|northwest| 8965.79575|\n",
      "| 45|  male| 24.31|       5|    no|southeast|  9788.8659|\n",
      "| 39|female| 34.32|       5|    no|southeast|  8596.8278|\n",
      "| 20|  male|30.115|       5|    no|northeast| 4915.05985|\n",
      "| 52|female| 46.75|       5|    no|southeast| 12592.5345|\n",
      "| 39|female|  18.3|       5|   yes|southwest|   19023.26|\n",
      "| 26|female| 29.64|       4|    no|northeast|24671.66334|\n",
      "| 24|  male| 33.63|       4|    no|northeast|17128.42608|\n",
      "| 25|  male|26.695|       4|    no|northwest| 4877.98105|\n",
      "| 40|female|  29.3|       4|    no|southwest|15828.82173|\n",
      "| 40|  male|30.875|       4|    no|northwest| 8162.71625|\n",
      "| 61|female| 33.33|       4|    no|southeast|36580.28216|\n",
      "| 49|female| 41.47|       4|    no|southeast| 10977.2063|\n",
      "| 36|female| 29.04|       4|    no|southeast|  7243.8136|\n",
      "| 37|  male|  34.1|       4|   yes|southwest|  40182.246|\n",
      "| 29|female|  25.6|       4|    no|southwest|   5708.867|\n",
      "| 25|  male| 33.66|       4|    no|southeast|  4504.6624|\n",
      "| 21|  male|  25.7|       4|   yes|southwest|  17942.106|\n",
      "+---+------+------+--------+------+---------+-----------+\n",
      "only showing top 30 rows\n",
      "\n"
     ]
    }
   ],
   "source": [
    "df.orderBy(df[\"children\"].desc()).show(30)"
   ]
  },
  {
   "cell_type": "markdown",
   "metadata": {},
   "source": [
    "##  PART(6) Machine Learning Model"
   ]
  },
  {
   "cell_type": "code",
   "execution_count": 26,
   "metadata": {},
   "outputs": [],
   "source": [
    "import numpy as np\n",
    "\n",
    "from pyspark.ml.feature import StringIndexer, OneHotEncoder \n",
    "\n",
    "##One Hot Encoder used for encoding the categorical variables to numerical values.\n",
    "## ML CANNOT PROCESS NON NUMERIC DATA (IN OUR DATA SEX, REGION AND SMOKER ARE CATEGORICAL)\n",
    "\n",
    "from pyspark.ml.feature import VectorAssembler\n",
    "from pyspark.ml.feature import MinMaxScaler, StandardScaler\n",
    "from pyspark.ml import Pipeline\n",
    "\n",
    "#ML Logisitic Regression\n",
    "from pyspark.ml.classification import LogisticRegression\n",
    "\n",
    "\n",
    "from pyspark.ml.tuning import ParamGridBuilder, CrossValidator\n",
    "\n",
    "##Cross validation is used to test/train all data in batches. Helps in forming a clear result\n",
    "\n",
    "import time\n",
    "\n"
   ]
  },
  {
   "cell_type": "code",
   "execution_count": 27,
   "metadata": {},
   "outputs": [
    {
     "data": {
      "text/plain": [
       "0.299008193330648"
      ]
     },
     "execution_count": 27,
     "metadata": {},
     "output_type": "execute_result"
    }
   ],
   "source": [
    "df.corr(\"age\",\"charges\")\n",
    "\n",
    "\n"
   ]
  },
  {
   "cell_type": "code",
   "execution_count": 28,
   "metadata": {},
   "outputs": [
    {
     "data": {
      "text/plain": [
       "0.1092718815485351"
      ]
     },
     "execution_count": 28,
     "metadata": {},
     "output_type": "execute_result"
    }
   ],
   "source": [
    "df.corr(\"age\",\"bmi\")"
   ]
  },
  {
   "cell_type": "code",
   "execution_count": 29,
   "metadata": {},
   "outputs": [
    {
     "data": {
      "text/plain": [
       "0.19834096883362906"
      ]
     },
     "execution_count": 29,
     "metadata": {},
     "output_type": "execute_result"
    }
   ],
   "source": [
    "df.corr(\"charges\",\"bmi\")"
   ]
  },
  {
   "cell_type": "code",
   "execution_count": 32,
   "metadata": {},
   "outputs": [],
   "source": [
    "vc=VectorAssembler(\n",
    "    inputCols= [\"age\",\"bmi\",\"charges\",\"children\"],\n",
    "    outputCol= 'numeric')\n",
    "\n",
    "dx=vc.transform(df).select('numeric')\n",
    "\n",
    "##"
   ]
  },
  {
   "cell_type": "code",
   "execution_count": 34,
   "metadata": {},
   "outputs": [
    {
     "name": "stdout",
     "output_type": "stream",
     "text": [
      "+--------------------+\n",
      "|             numeric|\n",
      "+--------------------+\n",
      "|[19.0,27.9,16884....|\n",
      "|[18.0,33.77,1725....|\n",
      "|[28.0,33.0,4449.4...|\n",
      "|[33.0,22.705,2198...|\n",
      "|[32.0,28.88,3866....|\n",
      "|[31.0,25.74,3756....|\n",
      "|[46.0,33.44,8240....|\n",
      "|[37.0,27.74,7281....|\n",
      "|[37.0,29.83,6406....|\n",
      "|[60.0,25.84,28923...|\n",
      "|[25.0,26.22,2721....|\n",
      "|[62.0,26.29,27808...|\n",
      "|[23.0,34.4,1826.8...|\n",
      "|[56.0,39.82,11090...|\n",
      "|[27.0,42.13,39611...|\n",
      "|[19.0,24.6,1837.2...|\n",
      "|[52.0,30.78,10797...|\n",
      "|[23.0,23.845,2395...|\n",
      "|[56.0,40.3,10602....|\n",
      "|[30.0,35.3,36837....|\n",
      "|[60.0,36.005,1322...|\n",
      "|[30.0,32.4,4149.7...|\n",
      "|[18.0,34.1,1137.0...|\n",
      "|[34.0,31.92,37701...|\n",
      "|[37.0,28.025,6203...|\n",
      "|[59.0,27.72,14001...|\n",
      "|[63.0,23.085,1445...|\n",
      "|[55.0,32.775,1226...|\n",
      "|[23.0,17.385,2775...|\n",
      "|[31.0,36.3,38711....|\n",
      "+--------------------+\n",
      "only showing top 30 rows\n",
      "\n"
     ]
    }
   ],
   "source": [
    "dx.show(30)"
   ]
  },
  {
   "cell_type": "code",
   "execution_count": 37,
   "metadata": {},
   "outputs": [
    {
     "name": "stderr",
     "output_type": "stream",
     "text": [
      "Exception ignored in: <function JavaWrapper.__del__ at 0x7f6773375048>\n",
      "Traceback (most recent call last):\n",
      "  File \"/opt/spark-3.0.0-bin-hadoop3.2/python/pyspark/ml/wrapper.py\", line 42, in __del__\n",
      "    if SparkContext._active_spark_context and self._java_obj is not None:\n",
      "AttributeError: 'VectorAssembler' object has no attribute '_java_obj'\n"
     ]
    }
   ],
   "source": [
    "udd=df.toPandas()"
   ]
  },
  {
   "cell_type": "code",
   "execution_count": 38,
   "metadata": {},
   "outputs": [
    {
     "data": {
      "text/html": [
       "<div>\n",
       "<style scoped>\n",
       "    .dataframe tbody tr th:only-of-type {\n",
       "        vertical-align: middle;\n",
       "    }\n",
       "\n",
       "    .dataframe tbody tr th {\n",
       "        vertical-align: top;\n",
       "    }\n",
       "\n",
       "    .dataframe thead th {\n",
       "        text-align: right;\n",
       "    }\n",
       "</style>\n",
       "<table border=\"1\" class=\"dataframe\">\n",
       "  <thead>\n",
       "    <tr style=\"text-align: right;\">\n",
       "      <th></th>\n",
       "      <th>age</th>\n",
       "      <th>sex</th>\n",
       "      <th>bmi</th>\n",
       "      <th>children</th>\n",
       "      <th>smoker</th>\n",
       "      <th>region</th>\n",
       "      <th>charges</th>\n",
       "    </tr>\n",
       "  </thead>\n",
       "  <tbody>\n",
       "    <tr>\n",
       "      <th>0</th>\n",
       "      <td>19</td>\n",
       "      <td>female</td>\n",
       "      <td>27.900</td>\n",
       "      <td>0</td>\n",
       "      <td>yes</td>\n",
       "      <td>southwest</td>\n",
       "      <td>16884.92400</td>\n",
       "    </tr>\n",
       "    <tr>\n",
       "      <th>1</th>\n",
       "      <td>18</td>\n",
       "      <td>male</td>\n",
       "      <td>33.770</td>\n",
       "      <td>1</td>\n",
       "      <td>no</td>\n",
       "      <td>southeast</td>\n",
       "      <td>1725.55230</td>\n",
       "    </tr>\n",
       "    <tr>\n",
       "      <th>2</th>\n",
       "      <td>28</td>\n",
       "      <td>male</td>\n",
       "      <td>33.000</td>\n",
       "      <td>3</td>\n",
       "      <td>no</td>\n",
       "      <td>southeast</td>\n",
       "      <td>4449.46200</td>\n",
       "    </tr>\n",
       "    <tr>\n",
       "      <th>3</th>\n",
       "      <td>33</td>\n",
       "      <td>male</td>\n",
       "      <td>22.705</td>\n",
       "      <td>0</td>\n",
       "      <td>no</td>\n",
       "      <td>northwest</td>\n",
       "      <td>21984.47061</td>\n",
       "    </tr>\n",
       "    <tr>\n",
       "      <th>4</th>\n",
       "      <td>32</td>\n",
       "      <td>male</td>\n",
       "      <td>28.880</td>\n",
       "      <td>0</td>\n",
       "      <td>no</td>\n",
       "      <td>northwest</td>\n",
       "      <td>3866.85520</td>\n",
       "    </tr>\n",
       "  </tbody>\n",
       "</table>\n",
       "</div>"
      ],
      "text/plain": [
       "   age     sex     bmi  children smoker     region      charges\n",
       "0   19  female  27.900         0    yes  southwest  16884.92400\n",
       "1   18    male  33.770         1     no  southeast   1725.55230\n",
       "2   28    male  33.000         3     no  southeast   4449.46200\n",
       "3   33    male  22.705         0     no  northwest  21984.47061\n",
       "4   32    male  28.880         0     no  northwest   3866.85520"
      ]
     },
     "execution_count": 38,
     "metadata": {},
     "output_type": "execute_result"
    }
   ],
   "source": [
    "udd.head()"
   ]
  },
  {
   "cell_type": "code",
   "execution_count": null,
   "metadata": {},
   "outputs": [],
   "source": []
  },
  {
   "cell_type": "code",
   "execution_count": 43,
   "metadata": {},
   "outputs": [
    {
     "data": {
      "text/plain": [
       "0"
      ]
     },
     "execution_count": 43,
     "metadata": {},
     "output_type": "execute_result"
    }
   ],
   "source": [
    "df.select(\"*\").where(df.charges.isNull()).count()"
   ]
  },
  {
   "cell_type": "code",
   "execution_count": 46,
   "metadata": {},
   "outputs": [],
   "source": [
    "from pyspark.sql.functions import isnan, when, count, col\n",
    "def get_null_value_count(data):\n",
    "    data.select([count(when(isnan(c) | col(c).isNull(),c)).alias(c) for c in data.columns]).show()"
   ]
  },
  {
   "cell_type": "code",
   "execution_count": 47,
   "metadata": {},
   "outputs": [
    {
     "name": "stdout",
     "output_type": "stream",
     "text": [
      "+---+---+---+--------+------+------+-------+\n",
      "|age|sex|bmi|children|smoker|region|charges|\n",
      "+---+---+---+--------+------+------+-------+\n",
      "|  0|  0|  0|       0|     0|     0|      0|\n",
      "+---+---+---+--------+------+------+-------+\n",
      "\n"
     ]
    }
   ],
   "source": [
    "get_null_value_count(df)"
   ]
  },
  {
   "cell_type": "code",
   "execution_count": 48,
   "metadata": {},
   "outputs": [
    {
     "data": {
      "text/plain": [
       "[('age', 'int'),\n",
       " ('sex', 'string'),\n",
       " ('bmi', 'double'),\n",
       " ('children', 'int'),\n",
       " ('smoker', 'string'),\n",
       " ('region', 'string'),\n",
       " ('charges', 'double')]"
      ]
     },
     "execution_count": 48,
     "metadata": {},
     "output_type": "execute_result"
    }
   ],
   "source": [
    "df.dtypes"
   ]
  },
  {
   "cell_type": "code",
   "execution_count": 52,
   "metadata": {},
   "outputs": [
    {
     "data": {
      "text/plain": [
       "['sex', 'smoker', 'region']"
      ]
     },
     "execution_count": 52,
     "metadata": {},
     "output_type": "execute_result"
    }
   ],
   "source": [
    "cat_col=[c[0] for c in df.dtypes if c[1]==\"string\"]\n",
    "cat_col"
   ]
  },
  {
   "cell_type": "code",
   "execution_count": 51,
   "metadata": {},
   "outputs": [
    {
     "data": {
      "text/plain": [
       "['sex', 'smoker', 'region']"
      ]
     },
     "execution_count": 51,
     "metadata": {},
     "output_type": "execute_result"
    }
   ],
   "source": []
  },
  {
   "cell_type": "code",
   "execution_count": null,
   "metadata": {},
   "outputs": [],
   "source": []
  },
  {
   "cell_type": "markdown",
   "metadata": {},
   "source": [
    "### CLUSTERING"
   ]
  },
  {
   "cell_type": "code",
   "execution_count": 53,
   "metadata": {},
   "outputs": [],
   "source": [
    "from pyspark.ml.linalg import Vectors\n",
    "from pyspark.ml.feature import VectorAssembler"
   ]
  },
  {
   "cell_type": "code",
   "execution_count": 54,
   "metadata": {},
   "outputs": [],
   "source": [
    "feat_cols=['age',\n",
    " 'bmi',\n",
    " 'children']"
   ]
  },
  {
   "cell_type": "code",
   "execution_count": 55,
   "metadata": {},
   "outputs": [],
   "source": [
    "vect_assembler=VectorAssembler(inputCols=feat_cols, outputCol='features')"
   ]
  },
  {
   "cell_type": "code",
   "execution_count": 58,
   "metadata": {},
   "outputs": [],
   "source": [
    "final_df=vect_assembler.transform(df)"
   ]
  },
  {
   "cell_type": "code",
   "execution_count": 59,
   "metadata": {},
   "outputs": [
    {
     "data": {
      "text/plain": [
       "[Row(age=19, sex='female', bmi=27.9, children=0, smoker='yes', region='southwest', charges=16884.924, features=DenseVector([19.0, 27.9, 0.0])),\n",
       " Row(age=18, sex='male', bmi=33.77, children=1, smoker='no', region='southeast', charges=1725.5523, features=DenseVector([18.0, 33.77, 1.0])),\n",
       " Row(age=28, sex='male', bmi=33.0, children=3, smoker='no', region='southeast', charges=4449.462, features=DenseVector([28.0, 33.0, 3.0])),\n",
       " Row(age=33, sex='male', bmi=22.705, children=0, smoker='no', region='northwest', charges=21984.47061, features=DenseVector([33.0, 22.705, 0.0]))]"
      ]
     },
     "execution_count": 59,
     "metadata": {},
     "output_type": "execute_result"
    }
   ],
   "source": [
    "final_df.head(4)"
   ]
  },
  {
   "cell_type": "code",
   "execution_count": 60,
   "metadata": {},
   "outputs": [],
   "source": [
    "from pyspark.ml.feature import StandardScaler"
   ]
  },
  {
   "cell_type": "code",
   "execution_count": 61,
   "metadata": {},
   "outputs": [],
   "source": [
    "scaler=StandardScaler(inputCol='features', outputCol='scaledFeatures')"
   ]
  },
  {
   "cell_type": "code",
   "execution_count": 62,
   "metadata": {},
   "outputs": [],
   "source": [
    "scalerModel=scaler.fit(final_df)"
   ]
  },
  {
   "cell_type": "code",
   "execution_count": 63,
   "metadata": {},
   "outputs": [],
   "source": [
    "cluster_final_data=scalerModel.transform(final_df)"
   ]
  },
  {
   "cell_type": "code",
   "execution_count": 64,
   "metadata": {},
   "outputs": [
    {
     "data": {
      "text/plain": [
       "Row(age=19, sex='female', bmi=27.9, children=0, smoker='yes', region='southwest', charges=16884.924, features=DenseVector([19.0, 27.9, 0.0]), scaledFeatures=DenseVector([1.3523, 4.5751, 0.0]))"
      ]
     },
     "execution_count": 64,
     "metadata": {},
     "output_type": "execute_result"
    }
   ],
   "source": [
    "cluster_final_data.head()"
   ]
  },
  {
   "cell_type": "code",
   "execution_count": 66,
   "metadata": {},
   "outputs": [],
   "source": [
    "from pyspark.ml.clustering import KMeans"
   ]
  },
  {
   "cell_type": "code",
   "execution_count": 71,
   "metadata": {},
   "outputs": [],
   "source": [
    "kmeans3=KMeans(featuresCol='scaledFeatures', k=3)\n",
    "kmeans2=KMeans(featuresCol='scaledFeatures', k=2)\n",
    "kmeans4=KMeans(featuresCol='scaledFeatures', k=4)"
   ]
  },
  {
   "cell_type": "code",
   "execution_count": 73,
   "metadata": {},
   "outputs": [],
   "source": [
    "model_k3=kmeans3.fit(cluster_final_data)\n",
    "model_k2=kmeans2.fit(cluster_final_data)\n",
    "model_k4=kmeans4.fit(cluster_final_data)\n"
   ]
  },
  {
   "cell_type": "code",
   "execution_count": 69,
   "metadata": {},
   "outputs": [
    {
     "name": "stdout",
     "output_type": "stream",
     "text": [
      "+----------+-----+\n",
      "|prediction|count|\n",
      "+----------+-----+\n",
      "|         1|  488|\n",
      "|         2|  453|\n",
      "|         0|  397|\n",
      "+----------+-----+\n",
      "\n"
     ]
    }
   ],
   "source": [
    "model_k3.transform(cluster_final_data).groupBy('prediction').count().show()"
   ]
  },
  {
   "cell_type": "code",
   "execution_count": 70,
   "metadata": {},
   "outputs": [
    {
     "name": "stdout",
     "output_type": "stream",
     "text": [
      "+----------+-----+\n",
      "|prediction|count|\n",
      "+----------+-----+\n",
      "|         1|  641|\n",
      "|         0|  697|\n",
      "+----------+-----+\n",
      "\n"
     ]
    }
   ],
   "source": [
    "model_k2.transform(cluster_final_data).groupBy('prediction').count().show()"
   ]
  },
  {
   "cell_type": "code",
   "execution_count": 74,
   "metadata": {},
   "outputs": [
    {
     "name": "stdout",
     "output_type": "stream",
     "text": [
      "+----------+-----+\n",
      "|prediction|count|\n",
      "+----------+-----+\n",
      "|         1|  346|\n",
      "|         3|  286|\n",
      "|         2|  338|\n",
      "|         0|  368|\n",
      "+----------+-----+\n",
      "\n"
     ]
    }
   ],
   "source": [
    "model_k4.transform(cluster_final_data).groupBy('prediction').count().show()"
   ]
  },
  {
   "cell_type": "code",
   "execution_count": null,
   "metadata": {},
   "outputs": [],
   "source": []
  }
 ],
 "metadata": {
  "kernelspec": {
   "display_name": "Python 3",
   "language": "python",
   "name": "python3"
  },
  "language_info": {
   "codemirror_mode": {
    "name": "ipython",
    "version": 3
   },
   "file_extension": ".py",
   "mimetype": "text/x-python",
   "name": "python",
   "nbconvert_exporter": "python",
   "pygments_lexer": "ipython3",
   "version": "3.7.3"
  }
 },
 "nbformat": 4,
 "nbformat_minor": 2
}
